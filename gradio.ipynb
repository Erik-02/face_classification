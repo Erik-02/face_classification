{
 "cells": [
  {
   "cell_type": "markdown",
   "id": "ec3e00d1-3219-4235-818b-fbdf55ac54dd",
   "metadata": {},
   "source": [
    "https://www.kaggle.com/code/aayushmishra1512/emotion-detector/notebook\n",
    "\n",
    "https://www.gradio.app/guides/image-classification-in-tensorflow"
   ]
  },
  {
   "cell_type": "markdown",
   "id": "5e3a170b-d0df-45ba-abd1-9233d2113788",
   "metadata": {},
   "source": [
    "# Import libraries"
   ]
  },
  {
   "cell_type": "code",
   "execution_count": 1,
   "id": "a00cf848-6134-4298-87cf-6ed9769a52fb",
   "metadata": {},
   "outputs": [],
   "source": [
    "import tensorflow as tf\n",
    "import gradio as gr\n",
    "import numpy as np"
   ]
  },
  {
   "cell_type": "code",
   "execution_count": 2,
   "id": "ffb22c1b-1f75-4ec3-b6db-475ad5ff2c8f",
   "metadata": {},
   "outputs": [],
   "source": [
    "model = tf.keras.models.load_model(\"emotion_classifier.h5\")"
   ]
  },
  {
   "cell_type": "code",
   "execution_count": 3,
   "id": "884ebe37-9668-4dd1-92ab-0f607fa68e12",
   "metadata": {},
   "outputs": [],
   "source": [
    "labels = ['happy', 'neatral', 'sad']"
   ]
  },
  {
   "cell_type": "markdown",
   "id": "d8e8fb22-ae13-44aa-bfee-f9728ed701d1",
   "metadata": {},
   "source": [
    "## Predict function"
   ]
  },
  {
   "cell_type": "code",
   "execution_count": 4,
   "id": "9cf6a073-8087-42b8-a2a2-9828d197a555",
   "metadata": {},
   "outputs": [],
   "source": [
    "def classify_image(input):\n",
    "    input = input.reshape((-1, 256, 256, 3))\n",
    "\n",
    "    # Start prediction\n",
    "    result = model.predict(input)\n",
    "    result = list(result[0])\n",
    "    # Get the max value of the prediction and return the emotion on the picture\n",
    "    img_index = result.index(max(result))\n",
    "    probability = np.round(max(result)*100,2)\n",
    "    emotion = labels[img_index]\n",
    "\n",
    "    output = f'Detected emotion is {emotion}, with a probability of {probability}%'\n",
    "    \n",
    "    return output\n",
    "\n"
   ]
  },
  {
   "cell_type": "markdown",
   "id": "e46d16e8-26c6-47f5-a3f7-18b229a92dd8",
   "metadata": {},
   "source": [
    "## Gradio UI"
   ]
  },
  {
   "cell_type": "code",
   "execution_count": 7,
   "id": "aaefda48-db27-4c95-bd14-837615aa3b94",
   "metadata": {},
   "outputs": [
    {
     "name": "stdout",
     "output_type": "stream",
     "text": [
      "Running on local URL:  http://127.0.0.1:7862\n",
      "\n",
      "To create a public link, set `share=True` in `launch()`.\n"
     ]
    },
    {
     "data": {
      "text/html": [
       "<div><iframe src=\"http://127.0.0.1:7862/\" width=\"100%\" height=\"500\" allow=\"autoplay; camera; microphone; clipboard-read; clipboard-write;\" frameborder=\"0\" allowfullscreen></iframe></div>"
      ],
      "text/plain": [
       "<IPython.core.display.HTML object>"
      ]
     },
     "metadata": {},
     "output_type": "display_data"
    },
    {
     "data": {
      "text/plain": []
     },
     "execution_count": 7,
     "metadata": {},
     "output_type": "execute_result"
    },
    {
     "name": "stdout",
     "output_type": "stream",
     "text": [
      "1/1 [==============================] - 0s 416ms/step\n"
     ]
    }
   ],
   "source": [
    "gr.Interface(fn=classify_image,\n",
    "             inputs=gr.Image(shape=(256, 256)),\n",
    "             outputs=gr.Label(num_top_classes=3),\n",
    "            title='Image classifier',\n",
    "            description='This is a custom build image classifier that is able to classify images based on whether their emotion is Happy, Neutral  or Sad. The backend is a custom built CNN. Simply place a human face image as input, and the classifier will return the output.').launch()"
   ]
  },
  {
   "cell_type": "code",
   "execution_count": null,
   "id": "570a97b7-2660-42ca-8f2c-a75882684e8a",
   "metadata": {},
   "outputs": [],
   "source": []
  }
 ],
 "metadata": {
  "kernelspec": {
   "display_name": "image_classification",
   "language": "python",
   "name": "image_classification"
  },
  "language_info": {
   "codemirror_mode": {
    "name": "ipython",
    "version": 3
   },
   "file_extension": ".py",
   "mimetype": "text/x-python",
   "name": "python",
   "nbconvert_exporter": "python",
   "pygments_lexer": "ipython3",
   "version": "3.9.18"
  }
 },
 "nbformat": 4,
 "nbformat_minor": 5
}
